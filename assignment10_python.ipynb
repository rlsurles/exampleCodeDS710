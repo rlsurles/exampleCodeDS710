{
 "cells": [
  {
   "cell_type": "markdown",
   "metadata": {},
   "source": [
    "#Problem 1(a).  Unionized workers.\n",
    "\n",
    "These problems use the 1985 Current Population Survey data, ```cps.csv```, from last week.\n",
    "\n",
    "Create a pandas data frame to hold the CPS data.  Write a function that computes the average hourly wage of a unionized worker by using control flow to iterate through each row of the data frame."
   ]
  },
  {
   "cell_type": "code",
   "execution_count": 2,
   "metadata": {
    "collapsed": true
   },
   "outputs": [],
   "source": [
    "import pandas as pd\n",
    "import numpy as np"
   ]
  },
  {
   "cell_type": "code",
   "execution_count": 3,
   "metadata": {},
   "outputs": [
    {
     "name": "stdout",
     "output_type": "stream",
     "text": [
      "   wage  educ race sex hispanic south  married  exper  union  age    sector\n",
      "0   9.0    10    W   M       NH    NS  Married     27    Not   43     const\n",
      "1   5.5    12    W   M       NH    NS  Married     20    Not   38     sales\n",
      "2   3.8    12    W   F       NH    NS   Single      4    Not   22     sales\n",
      "3  10.5    12    W   F       NH    NS  Married     29    Not   47  clerical\n",
      "4  15.0    12    W   M       NH    NS  Married     40  Union   58     const\n"
     ]
    }
   ],
   "source": [
    "cps=pd.read_csv(\"/Users/becky/Desktop/cps.csv\")\n",
    "print(cps.iloc[:5,:])"
   ]
  },
  {
   "cell_type": "code",
   "execution_count": 4,
   "metadata": {},
   "outputs": [
    {
     "data": {
      "text/plain": [
       "534"
      ]
     },
     "execution_count": 4,
     "metadata": {},
     "output_type": "execute_result"
    }
   ],
   "source": [
    "cps.shape[0]"
   ]
  },
  {
   "cell_type": "code",
   "execution_count": 5,
   "metadata": {
    "collapsed": true
   },
   "outputs": [],
   "source": [
    "\n",
    "#%%timeit -r1 -n1\n",
    "def ave_hourly_wage_unionized(cps): #return true if unionezed\n",
    "    unionized=0\n",
    "    totalwage=0\n",
    "    for ii in range(len(cps)):#for current row in cps.shape[0]\n",
    "        row=cps.iloc[ii,:]#use iloc cuz referring to numeric indices and not loc for names\n",
    "        if row['union']=='Union':\n",
    "            unionized+=1\n",
    "            totalwage=totalwage+row['wage']\n",
    "    averagewage = totalwage/unionized\n",
    "    return(averagewage)\n",
    "\n"
   ]
  },
  {
   "cell_type": "code",
   "execution_count": 6,
   "metadata": {},
   "outputs": [
    {
     "data": {
      "text/plain": [
       "10.798125000000001"
      ]
     },
     "execution_count": 6,
     "metadata": {},
     "output_type": "execute_result"
    }
   ],
   "source": [
    "\n",
    "cps2=ave_hourly_wage_unionized(cps)\n",
    "cps2"
   ]
  },
  {
   "cell_type": "markdown",
   "metadata": {},
   "source": [
    "#Problem 1(b).  More unionized workers.\n",
    "\n",
    "Write a function that takes a row of a data frame as input.  Your function should return np.nan if a worker is not unionized, and the worker's hourly wage if the worker is unionized.  Apply this function to your data frame, then use the resulting series to compute the average hourly wage of a unionized worker."
   ]
  },
  {
   "cell_type": "code",
   "execution_count": 8,
   "metadata": {},
   "outputs": [
    {
     "data": {
      "text/plain": [
       "10.798125"
      ]
     },
     "execution_count": 8,
     "metadata": {},
     "output_type": "execute_result"
    }
   ],
   "source": [
    "def hourly(row):\n",
    "    if row['union'] == \"Union\": #Union is a string\n",
    "        return(row['wage'])\n",
    "    else:\n",
    "        return(np.nan)\n",
    "\n",
    "def get_union_wages_2b(cps):    \n",
    "    cps['unionWage']=cps.apply(hourly,axis=1)\n",
    "    average_union2=np.mean(cps['unionWage'])\n",
    "    return average_union2\n",
    "\n",
    "\n",
    "get_union_wages_2b(cps)"
   ]
  },
  {
   "cell_type": "markdown",
   "metadata": {},
   "source": [
    "# Problem 1(c).  Selecting and analyzing unionized workers.\n",
    "\n",
    "Write code that selects the unionized workers, then computes the average hourly wage of the resulting subset."
   ]
  },
  {
   "cell_type": "code",
   "execution_count": 15,
   "metadata": {},
   "outputs": [
    {
     "name": "stdout",
     "output_type": "stream",
     "text": [
      "Union workers mean wage:  10.798125\n"
     ]
    }
   ],
   "source": [
    "def get_union_wages_2c(cps):\n",
    "    return cps[cps.union == 'Union'].wage.mean()\n",
    "print('Union workers mean wage: ', cps[cps.union == 'Union'].wage.mean())\n"
   ]
  },
  {
   "cell_type": "code",
   "execution_count": 10,
   "metadata": {},
   "outputs": [
    {
     "name": "stdout",
     "output_type": "stream",
     "text": [
      "119 ms ± 6.37 ms per loop (mean ± std. dev. of 7 runs, 10 loops each)\n"
     ]
    }
   ],
   "source": [
    "%timeit ave_hourly_wage_unionized(cps)"
   ]
  },
  {
   "cell_type": "code",
   "execution_count": 13,
   "metadata": {},
   "outputs": [
    {
     "name": "stdout",
     "output_type": "stream",
     "text": [
      "8.79 ms ± 95.3 µs per loop (mean ± std. dev. of 7 runs, 100 loops each)\n"
     ]
    }
   ],
   "source": [
    "%timeit get_union_wages_2b(cps)"
   ]
  },
  {
   "cell_type": "code",
   "execution_count": 16,
   "metadata": {},
   "outputs": [
    {
     "name": "stdout",
     "output_type": "stream",
     "text": [
      "779 µs ± 10.9 µs per loop (mean ± std. dev. of 7 runs, 1000 loops each)\n"
     ]
    }
   ],
   "source": [
    "%timeit get_union_wages_2c(cps)"
   ]
  },
  {
   "cell_type": "markdown",
   "metadata": {},
   "source": [
    "#Problem 1(d).  Timing.\n",
    "\n",
    "Use the ```%time``` or ```%timeit``` magic commands to compare your code from 1(a), 1(b), and 1(c).  Create a markdown cell which explains the results of your comparison, including which is fastest and which is slowest.  Can you explain what makes the fastest code fastest?"
   ]
  },
  {
   "cell_type": "markdown",
   "metadata": {},
   "source": [
    "1a: 119 ms ± 6.37 ms per loop (mean ± std. dev. of 7 runs, 10 loops each).  This is the slowest because it has a for loop so it has to go thru a lot more iterations\n",
    "\n",
    "1b: 8.79 ms ± 95.3 µs per loop (mean ± std. dev. of 7 runs, 100 loops each)\n",
    "\n",
    "1c: 779 µs ± 10.9 µs per loop (mean ± std. dev. of 7 runs, 1000 loops each). This is the fastest because it's the most direct"
   ]
  }
 ],
 "metadata": {
  "kernelspec": {
   "display_name": "Python 3",
   "language": "python",
   "name": "python3"
  },
  "language_info": {
   "codemirror_mode": {
    "name": "ipython",
    "version": 3
   },
   "file_extension": ".py",
   "mimetype": "text/x-python",
   "name": "python",
   "nbconvert_exporter": "python",
   "pygments_lexer": "ipython3",
   "version": "3.6.2"
  }
 },
 "nbformat": 4,
 "nbformat_minor": 1
}
